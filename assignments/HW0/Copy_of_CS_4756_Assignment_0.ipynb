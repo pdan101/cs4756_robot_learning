{
  "nbformat": 4,
  "nbformat_minor": 0,
  "metadata": {
    "colab": {
      "provenance": [],
      "include_colab_link": true
    },
    "kernelspec": {
      "name": "python3",
      "display_name": "Python 3"
    },
    "language_info": {
      "name": "python"
    }
  },
  "cells": [
    {
      "cell_type": "markdown",
      "metadata": {
        "id": "view-in-github",
        "colab_type": "text"
      },
      "source": [
        "<a href=\"https://colab.research.google.com/github/pdan101/cs4756_robot_learning/blob/main/assignments/HW0/Copy_of_CS_4756_Assignment_0.ipynb\" target=\"_parent\"><img src=\"https://colab.research.google.com/assets/colab-badge.svg\" alt=\"Open In Colab\"/></a>"
      ]
    },
    {
      "cell_type": "markdown",
      "source": [
        "### **Introduction**\n",
        "\n",
        "Welcome to Assignment 0 of 4756. In this short notebook, we hope to refresh your memory with pytorch and probability. Please read through the following paragraphs carefully, as they will apply to this and all future assignments.\n",
        "\n",
        "**Evaluation:**\n",
        "Your code will be tested for correctness, and for certain assignments, speed. Please remember that all assignments should be completed individually.\n",
        "\n",
        "**Academic Integrity:** We will be checking your code against other submissions in the class for logical redundancy. If you copy someone else’s code and submit it with minor changes, we will know. These cheat detectors are quite hard to fool, so please don’t try. We trust you all to submit your own work only; please don’t let us down. If you do, we will pursue the strongest consequences available to us.\n",
        "\n",
        "**Getting Help:** The [#resources](https://www.cs.cornell.edu/courses/cs4756/2023sp/#resources) section on the course website is your friend (especially for this first assignment)! If you ever feel stuck in these projects, please feel free to avail yourself to office hours and Edstem! If you are unable to make any of the office hours listed, please let TAs know and we will be happy to assist. Since this is the first iteration of this course, please do not hesitate to reach out to TAs if you find any errors in the assignments. \n"
      ],
      "metadata": {
        "id": "iueVqaZCRx6O"
      }
    },
    {
      "cell_type": "markdown",
      "source": [
        "### Q1: Pytorch\n",
        "\n",
        "This first question will hopefully refresh your memory of Pytorch and give you a general idea of what coding assignments will look like in this class. Of course, Numpy and Python skills will also be implicitly tested via this assignment. If you need a refresher, please see this [60 minute blitz](https://pytorch.org/tutorials/beginner/deep_learning_60min_blitz.html) for Pytorch! For Numpy, please see the quickstart [here](https://numpy.org/doc/stable/user/quickstart.html) and full API [here](https://numpy.org/doc/stable/reference/). "
      ],
      "metadata": {
        "id": "dLvDDDL6V8MP"
      }
    },
    {
      "cell_type": "code",
      "source": [
        "import torch\n",
        "import torch.nn as nn\n",
        "import numpy as np\n",
        "import matplotlib.pyplot as plt\n",
        "\n",
        "# set seed for reproducibility\n",
        "np.random.seed(123)\n",
        "torch.manual_seed(123)"
      ],
      "metadata": {
        "id": "LR_MrK8aXQ6U",
        "outputId": "35e246d7-9937-4cae-dc1c-a36f6aeabb38",
        "colab": {
          "base_uri": "https://localhost:8080/"
        }
      },
      "execution_count": null,
      "outputs": [
        {
          "output_type": "execute_result",
          "data": {
            "text/plain": [
              "<torch._C.Generator at 0x7f6565842ad0>"
            ]
          },
          "metadata": {},
          "execution_count": 1
        }
      ]
    },
    {
      "cell_type": "markdown",
      "source": [
        "In this question, we are testing your ability to solve a simple regression problem. We will generate some train and test data, and you task will be to write the forward() function, setup the loss(), and optimize it. Please find the sections you need to fill out marked out below by *TODO*."
      ],
      "metadata": {
        "id": "vwBTSbGPXEIM"
      }
    },
    {
      "cell_type": "code",
      "source": [
        "# Generate train/test data\n",
        "data_size = 500\n",
        "X = np.random.rand(data_size, 1)\n",
        "Y = -4 * X + 2 + np.random.randn(data_size, 1)\n",
        "\n",
        "test_split = int(data_size * 0.8)\n",
        "x_train, x_test = X[:test_split], X[test_split:]\n",
        "y_train, y_test = Y[:test_split], Y[test_split:]\n",
        "\n",
        "x_train, y_train = torch.tensor(x_train).float(), torch.tensor(y_train).float()\n",
        "x_test, y_test = torch.tensor(x_test).float(), torch.tensor(y_test).float()"
      ],
      "metadata": {
        "id": "-q3zMdvpYBAS"
      },
      "execution_count": null,
      "outputs": []
    },
    {
      "cell_type": "code",
      "source": [
        "class LinearRegression(nn.Module):\n",
        "  def __init__(self, input_dim=1, output_dim=1):\n",
        "    super().__init__()\n",
        "    self.linear = nn.Linear(input_dim, output_dim)\n",
        "\n",
        "  def forward(self, x):\n",
        "    # TODO: please fill out the forward() function\n",
        "    return self.linear(x)"
      ],
      "metadata": {
        "id": "D2rwUxK-ZG-i"
      },
      "execution_count": null,
      "outputs": []
    },
    {
      "cell_type": "code",
      "source": [
        "model = LinearRegression()\n",
        "\n",
        "# TODO: please fill out loss_fn and optimizer\n",
        "loss_fn = nn.MSELoss()\n",
        "optimizer = torch.optim.SGD(model.parameters(), lr=1e-2)"
      ],
      "metadata": {
        "id": "65HZhZkllaXL"
      },
      "execution_count": null,
      "outputs": []
    },
    {
      "cell_type": "code",
      "source": [
        "num_epochs = 1000\n",
        "for epoch in range(num_epochs):\n",
        "  # TODO: please create a training loop for your model\n",
        "  optimizer.zero_grad()\n",
        "  preds = model(x_train)\n",
        "  loss = loss_fn(preds, y_train)\n",
        "  loss.backward()\n",
        "  optimizer.step()\n"
      ],
      "metadata": {
        "id": "11U8PwA4Z-XJ"
      },
      "execution_count": null,
      "outputs": []
    },
    {
      "cell_type": "markdown",
      "source": [
        "Below we provide a short script to visualize the performance of your model on the training data."
      ],
      "metadata": {
        "id": "rnQUGOpnjXgH"
      }
    },
    {
      "cell_type": "code",
      "source": [
        "# Plot training performance \n",
        "plt.scatter(x_train, y_train, s=10)\n",
        "with torch.no_grad():\n",
        "  y_pred = model(x_train)\n",
        "y_pred = y_pred.numpy()\n",
        "plt.plot(x_train, y_pred, color='magenta')\n",
        "plt.show()"
      ],
      "metadata": {
        "id": "rQhqeSuoir9u",
        "outputId": "7f2bd13f-bb3f-45cc-f931-a89d1b9bcd09",
        "colab": {
          "base_uri": "https://localhost:8080/",
          "height": 265
        }
      },
      "execution_count": null,
      "outputs": [
        {
          "output_type": "display_data",
          "data": {
            "text/plain": [
              "<Figure size 432x288 with 1 Axes>"
            ],
            "image/png": "[encoded data removed]"
          },
          "metadata": {
            "needs_background": "light"
          }
        }
      ]
    },
    {
      "cell_type": "code",
      "source": [
        "# Test the model\n",
        "with torch.no_grad():\n",
        "  y_pred = model(x_test)\n",
        "  test_loss = loss_fn(y_pred, y_test)\n",
        "  print(f\"Test loss: {test_loss.item()}\")"
      ],
      "metadata": {
        "id": "BEzgKkiYj1uT",
        "outputId": "5833c753-0527-4a5f-a435-e76c80dc7610",
        "colab": {
          "base_uri": "https://localhost:8080/"
        }
      },
      "execution_count": null,
      "outputs": [
        {
          "output_type": "stream",
          "name": "stdout",
          "text": [
            "Test loss: 0.9285014271736145\n"
          ]
        }
      ]
    },
    {
      "cell_type": "code",
      "source": [
        "# Plot test performance \n",
        "plt.scatter(x_test, y_test, s=10)\n",
        "with torch.no_grad():\n",
        "  y_pred = model(x_test)\n",
        "y_pred = y_pred.numpy()\n",
        "plt.plot(x_test, y_pred, color='red')\n",
        "plt.show()"
      ],
      "metadata": {
        "id": "KlCE4DmGk-iZ",
        "outputId": "fd971b85-7045-4fc1-be48-da0f1d85cce5",
        "colab": {
          "base_uri": "https://localhost:8080/",
          "height": 265
        }
      },
      "execution_count": null,
      "outputs": [
        {
          "output_type": "display_data",
          "data": {
            "text/plain": [
              "<Figure size 432x288 with 1 Axes>"
            ],
            "image/png": "[encoded data removed]"
          },
          "metadata": {
            "needs_background": "light"
          }
        }
      ]
    },
    {
      "cell_type": "code",
      "source": [],
      "metadata": {
        "id": "im6BeHUVtabH"
      },
      "execution_count": null,
      "outputs": []
    }
  ]
}